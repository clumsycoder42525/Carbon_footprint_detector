{
  "nbformat": 4,
  "nbformat_minor": 0,
  "metadata": {
    "colab": {
      "provenance": [],
      "toc_visible": true,
      "authorship_tag": "ABX9TyMPVf0jQYtNUdCRaTUoMTcb",
      "include_colab_link": true
    },
    "kernelspec": {
      "name": "python3",
      "display_name": "Python 3"
    },
    "language_info": {
      "name": "python"
    }
  },
  "cells": [
    {
      "cell_type": "markdown",
      "metadata": {
        "id": "view-in-github",
        "colab_type": "text"
      },
      "source": [
        "<a href=\"https://colab.research.google.com/github/clumsycoder42525/Carbon_footprint_detector/blob/main/CarbonFootprint.ipynb\" target=\"_parent\"><img src=\"https://colab.research.google.com/assets/colab-badge.svg\" alt=\"Open In Colab\"/></a>"
      ]
    },
    {
      "cell_type": "code",
      "execution_count": null,
      "metadata": {
        "id": "rTq98ofknGt0"
      },
      "outputs": [],
      "source": [
        "import pandas as pd\n",
        "import numpy as np\n",
        "import matplotlib.pyplot as plt\n",
        "import seaborn as sns\n",
        "import warnings\n",
        "warnings.filterwarnings('ignore')\n",
        "import requests\n",
        "from bs4 import BeautifulSoup\n",
        "import pandas as pd\n",
        "import numpy as np"
      ]
    },
    {
      "cell_type": "code",
      "source": [
        "materials = {\n",
        "    \"plastic\": {\"carbon\": 2.5, \"water\": 3.0, \"degradable\": 400, \"recyclable\": 1, \"biodegradable\": 0},\n",
        "    \"paper\": {\"carbon\": 1.2, \"water\": 2.5, \"degradable\": 0.5, \"recyclable\": 1, \"biodegradable\": 1},\n",
        "    \"glass\": {\"carbon\": 3.0, \"water\": 2.0, \"degradable\": 50, \"recyclable\": 1, \"biodegradable\": 0},\n",
        "    \"jute\": {\"carbon\": 0.8, \"water\": 1.5, \"degradable\": 1, \"recyclable\": 0, \"biodegradable\": 1},\n",
        "    \"metal\": {\"carbon\": 4.0, \"water\": 3.5, \"degradable\": 100, \"recyclable\": 1, \"biodegradable\": 0},\n",
        "    \"cloth\": {\"carbon\": 1.5, \"water\": 2.0, \"degradable\": 2, \"recyclable\": 1, \"biodegradable\": 1},\n",
        "}\n",
        "\n",
        "data = []\n",
        "for _ in range(50):\n",
        "    mat = np.random.choice(list(materials.keys()))\n",
        "    props = materials[mat]\n",
        "\n",
        "    weight = np.random.uniform(10, 1000)\n",
        "    volume = np.random.uniform(100, 5000)\n",
        "    energy = np.random.uniform(0.5, 50)\n",
        "    reuse = np.random.randint(1, 101)\n",
        "\n",
        "    carbon = round((weight * props[\"carbon\"] * 0.01 + energy * 0.8 + reuse * -0.01 + np.random.normal(0, 1)), 2)\n",
        "    water = round((weight * props[\"water\"] * 0.005 + props[\"degradable\"] * 0.1 + reuse * -0.02 + np.random.normal(0, 2)), 2)\n",
        "\n",
        "    row = {\n",
        "        \"material_type\": mat,\n",
        "        \"weight_g\": round(weight, 2),\n",
        "        \"volume_ml\": round(volume, 2),\n",
        "        \"recyclable\": props[\"recyclable\"],\n",
        "        \"degradation_time_years\": props[\"degradable\"],\n",
        "        \"production_energy_kWh\": round(energy, 2),\n",
        "        \"biodegradable\": props[\"biodegradable\"],\n",
        "        \"reuse_count\": reuse,\n",
        "        \"carbon_footprint_kgCO2\": carbon,\n",
        "        \"water_footprint_liters\": water,\n",
        "    }\n",
        "    data.append(row)\n",
        "\n",
        "df = pd.DataFrame(data)\n",
        "df.to_csv(\"packaging_footprint_data.csv\", index=False)\n",
        "print(df.head())"
      ],
      "metadata": {
        "id": "Bn3x8vhEnff2",
        "colab": {
          "base_uri": "https://localhost:8080/"
        },
        "outputId": "4ce62c0c-c6a2-4f82-f701-b9bec1ea7cf5"
      },
      "execution_count": null,
      "outputs": [
        {
          "output_type": "stream",
          "name": "stdout",
          "text": [
            "  material_type  weight_g  volume_ml  recyclable  degradation_time_years  \\\n",
            "0          jute    474.51    3233.21           0                     1.0   \n",
            "1       plastic    763.73     784.75           1                   400.0   \n",
            "2         metal    959.90    4998.19           1                   100.0   \n",
            "3          jute    390.15    4762.81           0                     1.0   \n",
            "4         cloth    998.77    1376.87           1                     2.0   \n",
            "\n",
            "   production_energy_kWh  biodegradable  reuse_count  carbon_footprint_kgCO2  \\\n",
            "0                  36.22              1           47                   31.26   \n",
            "1                  26.63              0           61                   39.91   \n",
            "2                  35.21              0           30                   67.26   \n",
            "3                   4.26              1           10                    6.79   \n",
            "4                   0.51              1          100                   14.54   \n",
            "\n",
            "   water_footprint_liters  \n",
            "0                    5.10  \n",
            "1                   51.00  \n",
            "2                   27.36  \n",
            "3                    2.03  \n",
            "4                    7.92  \n"
          ]
        }
      ]
    },
    {
      "cell_type": "code",
      "source": [
        "\n",
        "from sklearn.linear_model import LinearRegression\n",
        "from sklearn.preprocessing import OneHotEncoder\n",
        "from sklearn.compose import ColumnTransformer\n",
        "from sklearn.preprocessing import StandardScaler,MinMaxScaler\n",
        "from sklearn.model_selection import train_test_split"
      ],
      "metadata": {
        "id": "hMzayvbYnfiF"
      },
      "execution_count": null,
      "outputs": []
    },
    {
      "cell_type": "code",
      "source": [
        "ss=StandardScaler()\n",
        "numeric_df = df.select_dtypes(include=[np.number])\n",
        "scaled_numeric = StandardScaler().fit_transform(numeric_df)\n",
        "scaled_numeric_df = pd.DataFrame(scaled_numeric, columns=numeric_df.columns)\n",
        "mms=MinMaxScaler()\n",
        "mms.fit_transform(numeric_df)"
      ],
      "metadata": {
        "colab": {
          "base_uri": "https://localhost:8080/"
        },
        "id": "Th-mKoY4nfkW",
        "outputId": "1004dbf4-eb4b-4c99-9a76-75cd9cac31b2"
      },
      "execution_count": null,
      "outputs": [
        {
          "output_type": "execute_result",
          "data": {
            "text/plain": [
              "array([[0.45737766, 0.59876514, 0.        , 0.00125156, 0.73206232,\n",
              "        1.        , 0.45918367, 0.37744871, 0.14273533],\n",
              "       [0.75672766, 0.04215401, 1.        , 1.        , 0.53546535,\n",
              "        0.        , 0.60204082, 0.5108746 , 0.92547749],\n",
              "       [0.95976857, 1.        , 1.        , 0.24906133, 0.71135711,\n",
              "        0.        , 0.28571429, 0.93274718, 0.5223397 ],\n",
              "       [0.37006293, 0.9464908 , 0.        , 0.00125156, 0.07687577,\n",
              "        1.        , 0.08163265, 0.        , 0.09038199],\n",
              "       [1.        , 0.1767613 , 1.        , 0.00375469, 0.        ,\n",
              "        1.        , 1.        , 0.11954342, 0.19082538],\n",
              "       [0.81532044, 0.23099796, 0.        , 0.00125156, 0.08569086,\n",
              "        1.        , 0.28571429, 0.02683943, 0.16933834],\n",
              "       [0.72218887, 0.72438831, 1.        , 0.        , 0.36859369,\n",
              "        1.        , 0.6122449 , 0.25728829, 0.20173943],\n",
              "       [0.74908918, 0.18570906, 1.        , 0.00375469, 0.49097991,\n",
              "        1.        , 0.42857143, 0.37806571, 0.13472033],\n",
              "       [0.25106608, 0.85913428, 1.        , 0.        , 0.55473555,\n",
              "        1.        , 0.34693878, 0.28613296, 0.12943383],\n",
              "       [0.42489857, 0.86855715, 0.        , 0.00125156, 0.18245182,\n",
              "        1.        , 0.78571429, 0.05753509, 0.04450887],\n",
              "       [0.40683738, 0.90200893, 1.        , 0.24906133, 0.78413284,\n",
              "        0.        , 0.94897959, 0.63936449, 0.32997954],\n",
              "       [0.80182371, 0.90510745, 0.        , 0.00125156, 1.        ,\n",
              "        1.        , 0.93877551, 0.57859016, 0.13130969],\n",
              "       [0.22505589, 0.17388784, 1.        , 0.12390488, 0.97703977,\n",
              "        0.        , 0.51020408, 0.58383464, 0.16268759],\n",
              "       [0.46399147, 0.43609609, 1.        , 0.12390488, 0.37638376,\n",
              "        0.        , 0.57142857, 0.34582755, 0.14120055],\n",
              "       [0.34795479, 0.3048783 , 1.        , 0.12390488, 0.16195162,\n",
              "        0.        , 0.78571429, 0.15471232, 0.25341064],\n",
              "       [0.        , 0.22628311, 1.        , 0.        , 0.9403444 ,\n",
              "        1.        , 0.94897959, 0.44840352, 0.        ],\n",
              "       [0.39327855, 0.34997624, 1.        , 0.00375469, 0.31467815,\n",
              "        1.        , 0.64285714, 0.19049823, 0.1154502 ],\n",
              "       [0.10967128, 0.92521261, 1.        , 0.24906133, 0.77572776,\n",
              "        0.        , 0.43877551, 0.43837729, 0.28973397],\n",
              "       [0.161909  , 0.64688431, 1.        , 0.12390488, 0.700082  ,\n",
              "        0.        , 0.78571429, 0.39040568, 0.14802183],\n",
              "       [0.02601018, 0.51829447, 1.        , 0.12390488, 0.899549  ,\n",
              "        0.        , 0.26530612, 0.46459972, 0.07281719],\n",
              "       [0.1620539 , 0.6885291 , 1.        , 0.12390488, 0.6896269 ,\n",
              "        0.        , 0.36734694, 0.39349067, 0.21623465],\n",
              "       [0.23385361, 0.13000157, 1.        , 1.        , 0.85403854,\n",
              "        0.        , 0.19387755, 0.48511492, 0.82264666],\n",
              "       [0.12828103, 0.20440931, 1.        , 1.        , 0.69844198,\n",
              "        0.        , 0.47959184, 0.38840043, 0.84379263],\n",
              "       [0.53357622, 0.86985976, 1.        , 0.00375469, 0.37187372,\n",
              "        1.        , 0.8877551 , 0.2349221 , 0.12261255],\n",
              "       [0.61371822, 0.63602243, 1.        , 0.12390488, 0.02357524,\n",
              "        0.        , 0.41836735, 0.1994447 , 0.223397  ],\n",
              "       [0.54327441, 0.0232537 , 1.        , 0.        , 0.89257893,\n",
              "        1.        , 0.63265306, 0.53755977, 0.15569577],\n",
              "       [0.15992175, 0.38296426, 1.        , 1.        , 0.48523985,\n",
              "        0.        , 0.79591837, 0.26608052, 0.73806276],\n",
              "       [0.77147677, 0.        , 1.        , 0.        , 0.39524395,\n",
              "        1.        , 0.58163265, 0.28289372, 0.14853342],\n",
              "       [0.06327109, 0.51046064, 0.        , 0.00125156, 0.81836818,\n",
              "        1.        , 0.03061224, 0.44393028, 0.06343793],\n",
              "       [0.17507452, 0.04841698, 1.        , 0.24906133, 0.96268963,\n",
              "        0.        , 1.        , 0.59031313, 0.21538199],\n",
              "       [0.30477354, 0.57471578, 1.        , 0.00375469, 0.6904469 ,\n",
              "        1.        , 0.75510204, 0.40799013, 0.12568213],\n",
              "       [0.15053407, 0.82738976, 1.        , 1.        , 0.33087331,\n",
              "        0.        , 0.43877551, 0.19327472, 0.74863574],\n",
              "       [0.4588888 , 0.45160007, 1.        , 0.24906133, 0.94874949,\n",
              "        0.        , 0.62244898, 0.75721117, 0.30917462],\n",
              "       [0.35405109, 0.41517481, 1.        , 0.24906133, 0.399549  ,\n",
              "        0.        , 1.        , 0.3802252 , 0.25545703],\n",
              "       [0.8463919 , 0.64503838, 1.        , 0.        , 0.98318983,\n",
              "        1.        , 0.        , 0.65062471, 0.23038881],\n",
              "       [0.98407096, 0.52378679, 1.        , 0.24906133, 0.80094301,\n",
              "        0.        , 0.30612245, 1.        , 0.56906548],\n",
              "       [0.09791339, 0.90588947, 1.        , 0.00375469, 0.40385404,\n",
              "        1.        , 0.58163265, 0.17414777, 0.02046385],\n",
              "       [0.14704604, 0.77385783, 1.        , 0.        , 0.65518655,\n",
              "        1.        , 0.07142857, 0.31883387, 0.04774898],\n",
              "       [0.69547487, 0.11957162, 1.        , 0.12390488, 0.18532185,\n",
              "        0.        , 0.86734694, 0.33163659, 0.28836971],\n",
              "       [0.37021818, 0.8097375 , 1.        , 0.12390488, 0.67261173,\n",
              "        0.        , 0.93877551, 0.454882  , 0.21299454],\n",
              "       [0.97054318, 0.56174199, 0.        , 0.00125156, 0.42927429,\n",
              "        1.        , 0.14285714, 0.28042573, 0.16984993],\n",
              "       [0.6250828 , 0.5938366 , 1.        , 0.12390488, 0.69331693,\n",
              "        0.        , 0.86734694, 0.60496684, 0.25835607],\n",
              "       [0.1720005 , 0.64475195, 0.        , 0.00125156, 0.97908979,\n",
              "        1.        , 0.79591837, 0.51750733, 0.06446112],\n",
              "       [0.97190941, 0.65897606, 1.        , 1.        , 0.59143091,\n",
              "        0.        , 0.84693878, 0.5998766 , 1.        ],\n",
              "       [0.82903453, 0.565302  , 0.        , 0.00125156, 0.03731037,\n",
              "        1.        , 0.93877551, 0.00246799, 0.13045703],\n",
              "       [0.29398857, 0.30421222, 1.        , 0.12390488, 0.35178352,\n",
              "        0.        , 0.65306122, 0.23507635, 0.15910641],\n",
              "       [0.21297715, 0.15507392, 1.        , 1.        , 0.76527265,\n",
              "        0.        , 0.58163265, 0.45503625, 0.77950205],\n",
              "       [0.32607436, 0.86787516, 1.        , 0.00375469, 0.16502665,\n",
              "        1.        , 0.10204082, 0.08468302, 0.14904502],\n",
              "       [0.44500911, 0.77989347, 0.        , 0.00125156, 0.36592866,\n",
              "        1.        , 0.73469388, 0.19204072, 0.09686221],\n",
              "       [0.48026207, 0.63329673, 1.        , 0.12390488, 0.34747847,\n",
              "        0.        , 0.08163265, 0.34135431, 0.23038881]])"
            ]
          },
          "metadata": {},
          "execution_count": 6
        }
      ]
    },
    {
      "cell_type": "code",
      "source": [
        "X = scaled_numeric_df.drop([\"carbon_footprint_kgCO2\", \"water_footprint_liters\"], axis=1)\n",
        "y = scaled_numeric_df[\"carbon_footprint_kgCO2\"]\n",
        "X_train, X_test, y_train, y_test = train_test_split(X, y, test_size=0.2, random_state=42)\n",
        "X_test.size,X_train.shape\n",
        "lr =LinearRegression()\n",
        "lr.fit(X_train,y_train)\n",
        "y_pred = lr.predict(X_test)\n",
        "print(\"Predicted values:\", y_pred[:5])\n",
        "print(\"Actual values:   \", y_test[:5].values)"
      ],
      "metadata": {
        "id": "40ZZPJqLnfmz",
        "colab": {
          "base_uri": "https://localhost:8080/"
        },
        "outputId": "108d8be6-a8e2-48c5-dbbc-0af7c47d3a21"
      },
      "execution_count": null,
      "outputs": [
        {
          "output_type": "stream",
          "name": "stdout",
          "text": [
            "Predicted values: [-0.04895985  0.76169998 -0.08552193 -0.43665554  0.74887955]\n",
            "Actual values:    [-0.15763429  0.3497291   0.13157002 -0.67289159  0.27294285]\n"
          ]
        }
      ]
    },
    {
      "cell_type": "code",
      "source": [
        "\n",
        "plt.scatter(y_test, y_pred )\n",
        "plt.xlabel(\"Actual Values\")\n",
        "plt.ylabel(\"Predicted Values\")\n",
        "plt.title(\"Actual vs Predicted\")\n",
        "plt.show()\n",
        "\n"
      ],
      "metadata": {
        "id": "kn5kSF-qnfpE",
        "colab": {
          "base_uri": "https://localhost:8080/",
          "height": 472
        },
        "outputId": "803014bf-58e0-4bd5-bd75-b3d3082b8f61"
      },
      "execution_count": null,
      "outputs": [
        {
          "output_type": "display_data",
          "data": {
            "text/plain": [
              "<Figure size 640x480 with 1 Axes>"
            ],
            "image/png": "[encoded data removed]"
          },
          "metadata": {}
        }
      ]
    },
    {
      "cell_type": "code",
      "source": [
        "Sample_input = pd.DataFrame({\n",
        "    \"Weight (g)\": [350],\n",
        "    \"Volume (ml)\": [1200],\n",
        "    \"Recyclable\": [1],\n",
        "    \"Degradation Time (years)\": [50],\n",
        "    \"Production Energy (kWh)\": [25],\n",
        "    \"Biodegradable\": [0],\n",
        "    \"Reuse Count\": [15]\n",
        "})\n",
        "\n",
        "Model_prediction = lr.predict(StandardScaler().fit_transform(Sample_input))\n",
        "print(\"Predicted Carbon Footprint (kgCO2):\", Model_prediction)"
      ],
      "metadata": {
        "id": "xvaW9SVJnfsd",
        "colab": {
          "base_uri": "https://localhost:8080/"
        },
        "outputId": "e2637ef9-aa83-4ea1-d9f2-0553a596f433"
      },
      "execution_count": null,
      "outputs": [
        {
          "output_type": "stream",
          "name": "stdout",
          "text": [
            "Predicted Carbon Footprint (kgCO2): [0.02365304]\n"
          ]
        }
      ]
    },
    {
      "cell_type": "code",
      "source": [
        "Sample_input = pd.DataFrame({\n",
        "    \"Weight (g)\": [350],\n",
        "    \"Volume (ml)\": [120],\n",
        "    \"Recyclable\": [1],\n",
        "    \"Degradation Time (years)\": [5],\n",
        "    \"Production Energy (kWh)\": [2],\n",
        "    \"Biodegradable\": [0],\n",
        "    \"Reuse Count\": [15]\n",
        "})\n",
        "\n",
        "Model_prediction = lr.predict(StandardScaler().fit_transform(Sample_input))\n",
        "print(\"Predicted Carbon Footprint (kgCO2):\", Model_prediction)"
      ],
      "metadata": {
        "colab": {
          "base_uri": "https://localhost:8080/"
        },
        "id": "wzYCyEabtgNy",
        "outputId": "893b217d-03c5-40dc-c4f2-4a66387e1586"
      },
      "execution_count": null,
      "outputs": [
        {
          "output_type": "stream",
          "name": "stdout",
          "text": [
            "Predicted Carbon Footprint (kgCO2): [0.02365304]\n"
          ]
        }
      ]
    },
    {
      "cell_type": "code",
      "source": [],
      "metadata": {
        "id": "4r1D5GMStgQL",
        "colab": {
          "base_uri": "https://localhost:8080/"
        },
        "outputId": "95b77b8c-eea4-4047-8728-633899627854"
      },
      "execution_count": null,
      "outputs": [
        {
          "output_type": "execute_result",
          "data": {
            "text/plain": [
              "(100, 3)"
            ]
          },
          "metadata": {},
          "execution_count": 12
        }
      ]
    },
    {
      "cell_type": "code",
      "source": [],
      "metadata": {
        "id": "S_-0uTzutgTy"
      },
      "execution_count": null,
      "outputs": []
    },
    {
      "cell_type": "code",
      "source": [],
      "metadata": {
        "id": "CTryMhOquQgB"
      },
      "execution_count": null,
      "outputs": []
    },
    {
      "cell_type": "code",
      "source": [],
      "metadata": {
        "id": "We9yhTZguQii"
      },
      "execution_count": null,
      "outputs": []
    },
    {
      "cell_type": "code",
      "source": [],
      "metadata": {
        "id": "LYn39XnLuQmB"
      },
      "execution_count": null,
      "outputs": []
    }
  ]
}